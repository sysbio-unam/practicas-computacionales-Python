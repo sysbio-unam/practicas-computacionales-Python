{
  "nbformat": 4,
  "nbformat_minor": 0,
  "metadata": {
    "colab": {
      "name": "Untitled97.ipynb",
      "provenance": [],
      "authorship_tag": "ABX9TyPL718OEuk43bw+id+qEBJw",
      "include_colab_link": true
    },
    "kernelspec": {
      "name": "python3",
      "display_name": "Python 3"
    },
    "language_info": {
      "name": "python"
    }
  },
  "cells": [
    {
      "cell_type": "markdown",
      "metadata": {
        "id": "view-in-github",
        "colab_type": "text"
      },
      "source": [
        "<a href=\"https://colab.research.google.com/github/sysbio-unam/practicas-computacionales-Python/blob/main/algoritmo_Gillespie.ipynb\" target=\"_parent\"><img src=\"https://colab.research.google.com/assets/colab-badge.svg\" alt=\"Open In Colab\"/></a>"
      ]
    },
    {
      "cell_type": "markdown",
      "source": [
        "Título: Algoritmo de Gillespie\n",
        "\n",
        "Nombre: Biología de sistemas UNAM\n",
        "\n",
        "Fecha: diciembre 2021"
      ],
      "metadata": {
        "id": "MUh1loUUGSB1"
      }
    },
    {
      "cell_type": "code",
      "execution_count": 60,
      "metadata": {
        "id": "-1Scn1Zf8GGj"
      },
      "outputs": [],
      "source": [
        "# importar librerías\n",
        "import numpy as np\n",
        "import matplotlib.pyplot as plt\n",
        "from scipy.integrate import odeint"
      ]
    },
    {
      "cell_type": "code",
      "source": [
        "# parámetros del modelo\n",
        "p1 = 2\n",
        "k2 = 0.1"
      ],
      "metadata": {
        "id": "TZHVnUF28LMM"
      },
      "execution_count": 25,
      "outputs": []
    },
    {
      "cell_type": "code",
      "source": [
        "# función para calcular las velociades de generación y degradación \n",
        "def velocidades(GFP):\n",
        "    return [p1, k2 * GFP] "
      ],
      "metadata": {
        "id": "c-kv-7C0GvNK"
      },
      "execution_count": 27,
      "outputs": []
    },
    {
      "cell_type": "code",
      "source": [
        "def gillespieGFp(GFP0, tend):\n",
        "    # lista para guardar los valores de GFP en el tiempo\n",
        "    GFP = [GFP0]\n",
        "    # lista para guardar los tiempos en los que ocurren los eventos\n",
        "    t = [0]\n",
        "    # usamos un ciclo while porque no sabemos cuantas interaciones vamos a necesitar\n",
        "    while t[-1] < tend:\n",
        "        # tomamos el último valor de GFP\n",
        "        GFP_actual = GFP[-1]\n",
        "        # calculamos la suma de las velocidades de generación y degradación\n",
        "        suma_vel = sum(velocidades(GFP_actual))\n",
        "        # muestreamos el tiempo que vamos a avanzar de una distribución exponencial \n",
        "        tau = np.random.exponential(scale=1/suma_vel)\n",
        "        # damos el paso en el tiempo \n",
        "        t.append(t[-1] + tau)\n",
        "\n",
        "        # generamos un número aleatorio entre 0 y 1 para determinar el evento que ocurrirá\n",
        "        rand = random.uniform(0,1)\n",
        "        # evento de producción\n",
        "        if rand * suma_vel > 0 and rand * suma_vel <= p1:\n",
        "            GFP.append(GFP[-1] + 1)\n",
        "\n",
        "        # evento de degradación\n",
        "        else:\n",
        "            GFP.append(GFP[-1] - 1)\n",
        "    return [t, GFP]"
      ],
      "metadata": {
        "id": "hAeJwTc4HFG1"
      },
      "execution_count": 28,
      "outputs": []
    },
    {
      "cell_type": "code",
      "source": [
        "out = gillespieGFp(0, 100)"
      ],
      "metadata": {
        "id": "VWNFH0bw8R6b"
      },
      "execution_count": 37,
      "outputs": []
    },
    {
      "cell_type": "code",
      "source": [
        "plt.plot(out[0], out[1])\n",
        "plt.xlabel(\"tiempo\")\n",
        "plt.ylabel(\"GFP\")\n",
        "plt.plot(out[0], np.ones_like(out[0])*20, \"r--\")\n",
        "plt.legend([\"GFP(t)\", \"estado estacionario\"])"
      ],
      "metadata": {
        "colab": {
          "base_uri": "https://localhost:8080/",
          "height": 296
        },
        "id": "qgdXyHyB8UOs",
        "outputId": "50d99178-efa6-4cdf-d2f4-714c8e5945bc"
      },
      "execution_count": 42,
      "outputs": [
        {
          "output_type": "execute_result",
          "data": {
            "text/plain": [
              "<matplotlib.legend.Legend at 0x7f026cd6aed0>"
            ]
          },
          "metadata": {},
          "execution_count": 42
        },
        {
          "output_type": "display_data",
          "data": {
            "image/png": "[encoded data removed]",
            "text/plain": [
              "<Figure size 432x288 with 1 Axes>"
            ]
          },
          "metadata": {
            "needs_background": "light"
          }
        }
      ]
    },
    {
      "cell_type": "markdown",
      "source": [
        "## Obtener la concentración final de GFP al realizar varias simulaciones para determinar su distribución"
      ],
      "metadata": {
        "id": "kmtTpUeWKXs0"
      }
    },
    {
      "cell_type": "code",
      "source": [
        "def GFP_final(GFP0, tend):\n",
        "\n",
        "    out = gillespieGFp(GFP0, tend)\n",
        "\n",
        "    GFP = out[1]\n",
        "\n",
        "    return GFP[-1] "
      ],
      "metadata": {
        "id": "swQbNzU9JkZX"
      },
      "execution_count": 46,
      "outputs": []
    },
    {
      "cell_type": "code",
      "source": [
        "GFP_final(0, 100)"
      ],
      "metadata": {
        "colab": {
          "base_uri": "https://localhost:8080/"
        },
        "id": "RhvbubVVKeF4",
        "outputId": "5ffad251-967c-4df1-e9c7-2d8d55a13e76"
      },
      "execution_count": 47,
      "outputs": [
        {
          "output_type": "execute_result",
          "data": {
            "text/plain": [
              "22"
            ]
          },
          "metadata": {},
          "execution_count": 47
        }
      ]
    },
    {
      "cell_type": "code",
      "source": [
        "N = 1000\n",
        "GFPs = []\n",
        "for i in range(N):\n",
        "    GFPs.append(GFP_final(0, 100))"
      ],
      "metadata": {
        "id": "IdDvStiSKyNH"
      },
      "execution_count": 55,
      "outputs": []
    },
    {
      "cell_type": "code",
      "source": [
        "plt.hist(GFPs)\n",
        "plt.plot([20, 20], [0, 30], \"r--\")\n",
        "plt.xlabel(\"GFP final\")\n",
        "plt.ylabel(\"frecuencia\")\n",
        "plt.legend([\"estado estacionario\"])"
      ],
      "metadata": {
        "colab": {
          "base_uri": "https://localhost:8080/",
          "height": 296
        },
        "id": "1DVOEOh9LNQx",
        "outputId": "04340a8a-6a42-47d6-ca95-6dd8b2368f1e"
      },
      "execution_count": 56,
      "outputs": [
        {
          "output_type": "execute_result",
          "data": {
            "text/plain": [
              "<matplotlib.legend.Legend at 0x7f026c9d0ed0>"
            ]
          },
          "metadata": {},
          "execution_count": 56
        },
        {
          "output_type": "display_data",
          "data": {
            "image/png": "[encoded data removed]",
            "text/plain": [
              "<Figure size 432x288 with 1 Axes>"
            ]
          },
          "metadata": {
            "needs_background": "light"
          }
        }
      ]
    },
    {
      "cell_type": "markdown",
      "source": [
        "## Simular con modelo determinista"
      ],
      "metadata": {
        "id": "JRrzF5tqLyAM"
      }
    },
    {
      "cell_type": "code",
      "source": [
        "# modelo del proceso\n",
        "def modelo(s, t, p):\n",
        "    GFP = s[0]\n",
        "    p1 = p[0]\n",
        "    k2 = p[1]\n",
        "    dGFP = p1 - k2 * GFP\n",
        "    return dGFP"
      ],
      "metadata": {
        "id": "tmajQe9QLQ4K"
      },
      "execution_count": 58,
      "outputs": []
    },
    {
      "cell_type": "code",
      "source": [
        "# valor de parámetros \n",
        "p = [p1, k2]\n",
        "# condiciones iniciales \n",
        "s = [0]\n",
        "# tiempo de integración\n",
        "t = np.linspace(0, 100, 1000)"
      ],
      "metadata": {
        "id": "6MSlNDvaL_42"
      },
      "execution_count": 59,
      "outputs": []
    },
    {
      "cell_type": "code",
      "source": [
        "# resolver el modelo\n",
        "out = odeint(modelo, s, t, args = (p, ))"
      ],
      "metadata": {
        "id": "JJP8k3EGMRyI"
      },
      "execution_count": 61,
      "outputs": []
    },
    {
      "cell_type": "code",
      "source": [
        "# mostrar resultados \n",
        "plt.plot(t, out)\n",
        "plt.plot(t, np.ones_like(t) * 20)\n",
        "plt.xlabel(\"tiempo\")\n",
        "plt.ylabel(\"GFP\")\n",
        "plt.plot(out[0], np.ones_like(out[0])*20, \"r--\")\n",
        "plt.legend([\"GFP(t)\", \"estado estacionario\"])"
      ],
      "metadata": {
        "colab": {
          "base_uri": "https://localhost:8080/",
          "height": 296
        },
        "id": "lp24I_AbMiGL",
        "outputId": "25b7a2f7-1b2c-4099-b53c-c77e09e7f803"
      },
      "execution_count": 65,
      "outputs": [
        {
          "output_type": "execute_result",
          "data": {
            "text/plain": [
              "<matplotlib.legend.Legend at 0x7f0260247cd0>"
            ]
          },
          "metadata": {},
          "execution_count": 65
        },
        {
          "output_type": "display_data",
          "data": {
            "image/png": "[encoded data removed]",
            "text/plain": [
              "<Figure size 432x288 with 1 Axes>"
            ]
          },
          "metadata": {
            "needs_background": "light"
          }
        }
      ]
    },
    {
      "cell_type": "code",
      "source": [
        ""
      ],
      "metadata": {
        "id": "_aFFNAlIMl1S"
      },
      "execution_count": null,
      "outputs": []
    }
  ]
}