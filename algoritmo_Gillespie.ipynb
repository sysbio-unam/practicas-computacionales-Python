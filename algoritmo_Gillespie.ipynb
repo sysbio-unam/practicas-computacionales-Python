{
  "nbformat": 4,
  "nbformat_minor": 0,
  "metadata": {
    "colab": {
      "name": "Untitled97.ipynb",
      "provenance": [],
      "authorship_tag": "ABX9TyMAt/n4WSByzB5pKdJE9z5V",
      "include_colab_link": true
    },
    "kernelspec": {
      "name": "python3",
      "display_name": "Python 3"
    },
    "language_info": {
      "name": "python"
    }
  },
  "cells": [
    {
      "cell_type": "markdown",
      "metadata": {
        "id": "view-in-github",
        "colab_type": "text"
      },
      "source": [
        "<a href=\"https://colab.research.google.com/github/sysbio-unam/practicas-computacionales-Python/blob/main/algoritmo_Gillespie.ipynb\" target=\"_parent\"><img src=\"https://colab.research.google.com/assets/colab-badge.svg\" alt=\"Open In Colab\"/></a>"
      ]
    },
    {
      "cell_type": "markdown",
      "source": [
        "Título: Algoritmo de Gillespie\n",
        "\n",
        "Nombre: Biología de sistemas UNAM\n",
        "\n",
        "Fecha: diciembre 2021"
      ],
      "metadata": {
        "id": "MUh1loUUGSB1"
      }
    },
    {
      "cell_type": "code",
      "execution_count": 24,
      "metadata": {
        "id": "-1Scn1Zf8GGj"
      },
      "outputs": [],
      "source": [
        "# importar librerías\n",
        "import numpy as np\n",
        "import matplotlib\n",
        "import matplotlib.pyplot as plt\n",
        "import random"
      ]
    },
    {
      "cell_type": "code",
      "source": [
        "# parámetros del modelo\n",
        "p1 = 2\n",
        "k2 = 0.1"
      ],
      "metadata": {
        "id": "TZHVnUF28LMM"
      },
      "execution_count": 25,
      "outputs": []
    },
    {
      "cell_type": "code",
      "source": [
        "# función para calcular las velociades de generación y degradación \n",
        "def velocidades(GFP):\n",
        "    return [p1, k2 * GFP] "
      ],
      "metadata": {
        "id": "c-kv-7C0GvNK"
      },
      "execution_count": 27,
      "outputs": []
    },
    {
      "cell_type": "code",
      "source": [
        "def gillespieGFp(GFP0, tend):\n",
        "    # lista para guardar los valores de GFP en el tiempo\n",
        "    GFP = [GFP0]\n",
        "    # lista para guardar los tiempos en los que ocurren los eventos\n",
        "    t = [0]\n",
        "    # usamos un ciclo while porque no sabemos cuantas interaciones vamos a necesitar\n",
        "    while t[-1] < tend:\n",
        "        # tomamos el último valor de GFP\n",
        "        GFP_actual = GFP[-1]\n",
        "        # calculamos la suma de las velocidades de generación y degradación\n",
        "        suma_vel = sum(velocidades(GFP_actual))\n",
        "        # muestreamos el tiempo que vamos a avanzar de una distribución exponencial \n",
        "        tau = np.random.exponential(scale=1/suma_vel)\n",
        "        # damos el paso en el tiempo \n",
        "        t.append(t[-1] + tau)\n",
        "\n",
        "        # generamos un número aleatorio entre 0 y 1 para determinar el evento que ocurrirá\n",
        "        rand = random.uniform(0,1)\n",
        "        # evento de producción\n",
        "        if rand * suma_vel > 0 and rand * suma_vel <= p1:\n",
        "            GFP.append(GFP[-1] + 1)\n",
        "\n",
        "        # evento de degradación\n",
        "        else:\n",
        "            GFP.append(GFP[-1] - 1)\n",
        "    return [t, GFP]"
      ],
      "metadata": {
        "id": "hAeJwTc4HFG1"
      },
      "execution_count": 28,
      "outputs": []
    },
    {
      "cell_type": "code",
      "source": [
        "out = gillespieGFp(0, 100)"
      ],
      "metadata": {
        "id": "VWNFH0bw8R6b"
      },
      "execution_count": 37,
      "outputs": []
    },
    {
      "cell_type": "code",
      "source": [
        "plt.plot(out[0], out[1])\n",
        "plt.xlabel(\"tiempo\")\n",
        "plt.ylabel(\"GFP\")"
      ],
      "metadata": {
        "colab": {
          "base_uri": "https://localhost:8080/",
          "height": 296
        },
        "id": "qgdXyHyB8UOs",
        "outputId": "c75ea12a-4669-431a-b354-64c9a66455bf"
      },
      "execution_count": 39,
      "outputs": [
        {
          "output_type": "execute_result",
          "data": {
            "text/plain": [
              "Text(0, 0.5, 'GFP')"
            ]
          },
          "metadata": {},
          "execution_count": 39
        },
        {
          "output_type": "display_data",
          "data": {
            "image/png": "[encoded data removed]",
            "text/plain": [
              "<Figure size 432x288 with 1 Axes>"
            ]
          },
          "metadata": {
            "needs_background": "light"
          }
        }
      ]
    },
    {
      "cell_type": "code",
      "source": [
        ""
      ],
      "metadata": {
        "id": "swQbNzU9JkZX"
      },
      "execution_count": null,
      "outputs": []
    }
  ]
}