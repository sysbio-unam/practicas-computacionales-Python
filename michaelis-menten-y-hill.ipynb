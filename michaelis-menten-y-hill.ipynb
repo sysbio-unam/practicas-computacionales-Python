{
  "nbformat": 4,
  "nbformat_minor": 0,
  "metadata": {
    "colab": {
      "name": "Untitled100.ipynb",
      "provenance": [],
      "collapsed_sections": [],
      "authorship_tag": "ABX9TyPs2ZcO4YJc8JumPHGUhvH0",
      "include_colab_link": true
    },
    "kernelspec": {
      "name": "python3",
      "display_name": "Python 3"
    },
    "language_info": {
      "name": "python"
    },
    "widgets": {
      "application/vnd.jupyter.widget-state+json": {
        "52d763687d7f4e79b5215b22fa1a7ddd": {
          "model_module": "@jupyter-widgets/controls",
          "model_name": "VBoxModel",
          "model_module_version": "1.5.0",
          "state": {
            "_view_name": "VBoxView",
            "_dom_classes": [
              "widget-interact"
            ],
            "_model_name": "VBoxModel",
            "_view_module": "@jupyter-widgets/controls",
            "_model_module_version": "1.5.0",
            "_view_count": null,
            "_view_module_version": "1.5.0",
            "box_style": "",
            "layout": "IPY_MODEL_ac519bf15309470c8024015ef635d5e0",
            "_model_module": "@jupyter-widgets/controls",
            "children": [
              "IPY_MODEL_91808a8983c94ac9896a374677d5939f",
              "IPY_MODEL_414d723b2a084b1e9503503bec455612"
            ]
          }
        },
        "ac519bf15309470c8024015ef635d5e0": {
          "model_module": "@jupyter-widgets/base",
          "model_name": "LayoutModel",
          "model_module_version": "1.2.0",
          "state": {
            "_view_name": "LayoutView",
            "grid_template_rows": null,
            "right": null,
            "justify_content": null,
            "_view_module": "@jupyter-widgets/base",
            "overflow": null,
            "_model_module_version": "1.2.0",
            "_view_count": null,
            "flex_flow": null,
            "width": null,
            "min_width": null,
            "border": null,
            "align_items": null,
            "bottom": null,
            "_model_module": "@jupyter-widgets/base",
            "top": null,
            "grid_column": null,
            "overflow_y": null,
            "overflow_x": null,
            "grid_auto_flow": null,
            "grid_area": null,
            "grid_template_columns": null,
            "flex": null,
            "_model_name": "LayoutModel",
            "justify_items": null,
            "grid_row": null,
            "max_height": null,
            "align_content": null,
            "visibility": null,
            "align_self": null,
            "height": null,
            "min_height": null,
            "padding": null,
            "grid_auto_rows": null,
            "grid_gap": null,
            "max_width": null,
            "order": null,
            "_view_module_version": "1.2.0",
            "grid_template_areas": null,
            "object_position": null,
            "object_fit": null,
            "grid_auto_columns": null,
            "margin": null,
            "display": null,
            "left": null
          }
        },
        "91808a8983c94ac9896a374677d5939f": {
          "model_module": "@jupyter-widgets/controls",
          "model_name": "IntSliderModel",
          "model_module_version": "1.5.0",
          "state": {
            "_view_name": "IntSliderView",
            "style": "IPY_MODEL_650d315d952044c1976e9042f80e4e5b",
            "_dom_classes": [],
            "description": "aslider",
            "step": 1,
            "_model_name": "IntSliderModel",
            "orientation": "horizontal",
            "max": 200,
            "_view_module": "@jupyter-widgets/controls",
            "_model_module_version": "1.5.0",
            "value": 151,
            "_view_count": null,
            "disabled": false,
            "_view_module_version": "1.5.0",
            "min": 50,
            "continuous_update": true,
            "readout_format": "d",
            "description_tooltip": null,
            "readout": true,
            "_model_module": "@jupyter-widgets/controls",
            "layout": "IPY_MODEL_f7a5e467c2c740e69cd17a62aacae71d"
          }
        },
        "414d723b2a084b1e9503503bec455612": {
          "model_module": "@jupyter-widgets/output",
          "model_name": "OutputModel",
          "model_module_version": "1.0.0",
          "state": {
            "_view_name": "OutputView",
            "msg_id": "",
            "_dom_classes": [],
            "_model_name": "OutputModel",
            "outputs": [
              {
                "output_type": "display_data",
                "data": {
                  "image/png": "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\n",
                  "text/plain": "<Figure size 432x288 with 1 Axes>"
                },
                "metadata": {
                  "needs_background": "light"
                }
              }
            ],
            "_view_module": "@jupyter-widgets/output",
            "_model_module_version": "1.0.0",
            "_view_count": null,
            "_view_module_version": "1.0.0",
            "layout": "IPY_MODEL_be695d0feeb940cc913a5e9d41c79085",
            "_model_module": "@jupyter-widgets/output"
          }
        },
        "650d315d952044c1976e9042f80e4e5b": {
          "model_module": "@jupyter-widgets/controls",
          "model_name": "SliderStyleModel",
          "model_module_version": "1.5.0",
          "state": {
            "_view_name": "StyleView",
            "handle_color": null,
            "_model_name": "SliderStyleModel",
            "description_width": "",
            "_view_module": "@jupyter-widgets/base",
            "_model_module_version": "1.5.0",
            "_view_count": null,
            "_view_module_version": "1.2.0",
            "_model_module": "@jupyter-widgets/controls"
          }
        },
        "f7a5e467c2c740e69cd17a62aacae71d": {
          "model_module": "@jupyter-widgets/base",
          "model_name": "LayoutModel",
          "model_module_version": "1.2.0",
          "state": {
            "_view_name": "LayoutView",
            "grid_template_rows": null,
            "right": null,
            "justify_content": null,
            "_view_module": "@jupyter-widgets/base",
            "overflow": null,
            "_model_module_version": "1.2.0",
            "_view_count": null,
            "flex_flow": null,
            "width": null,
            "min_width": null,
            "border": null,
            "align_items": null,
            "bottom": null,
            "_model_module": "@jupyter-widgets/base",
            "top": null,
            "grid_column": null,
            "overflow_y": null,
            "overflow_x": null,
            "grid_auto_flow": null,
            "grid_area": null,
            "grid_template_columns": null,
            "flex": null,
            "_model_name": "LayoutModel",
            "justify_items": null,
            "grid_row": null,
            "max_height": null,
            "align_content": null,
            "visibility": null,
            "align_self": null,
            "height": null,
            "min_height": null,
            "padding": null,
            "grid_auto_rows": null,
            "grid_gap": null,
            "max_width": null,
            "order": null,
            "_view_module_version": "1.2.0",
            "grid_template_areas": null,
            "object_position": null,
            "object_fit": null,
            "grid_auto_columns": null,
            "margin": null,
            "display": null,
            "left": null
          }
        },
        "be695d0feeb940cc913a5e9d41c79085": {
          "model_module": "@jupyter-widgets/base",
          "model_name": "LayoutModel",
          "model_module_version": "1.2.0",
          "state": {
            "_view_name": "LayoutView",
            "grid_template_rows": null,
            "right": null,
            "justify_content": null,
            "_view_module": "@jupyter-widgets/base",
            "overflow": null,
            "_model_module_version": "1.2.0",
            "_view_count": null,
            "flex_flow": null,
            "width": null,
            "min_width": null,
            "border": null,
            "align_items": null,
            "bottom": null,
            "_model_module": "@jupyter-widgets/base",
            "top": null,
            "grid_column": null,
            "overflow_y": null,
            "overflow_x": null,
            "grid_auto_flow": null,
            "grid_area": null,
            "grid_template_columns": null,
            "flex": null,
            "_model_name": "LayoutModel",
            "justify_items": null,
            "grid_row": null,
            "max_height": null,
            "align_content": null,
            "visibility": null,
            "align_self": null,
            "height": null,
            "min_height": null,
            "padding": null,
            "grid_auto_rows": null,
            "grid_gap": null,
            "max_width": null,
            "order": null,
            "_view_module_version": "1.2.0",
            "grid_template_areas": null,
            "object_position": null,
            "object_fit": null,
            "grid_auto_columns": null,
            "margin": null,
            "display": null,
            "left": null
          }
        },
        "74bf5cd97b10458e8db8c401bcbb0cb8": {
          "model_module": "@jupyter-widgets/controls",
          "model_name": "VBoxModel",
          "model_module_version": "1.5.0",
          "state": {
            "_view_name": "VBoxView",
            "_dom_classes": [
              "widget-interact"
            ],
            "_model_name": "VBoxModel",
            "_view_module": "@jupyter-widgets/controls",
            "_model_module_version": "1.5.0",
            "_view_count": null,
            "_view_module_version": "1.5.0",
            "box_style": "",
            "layout": "IPY_MODEL_54147838c8174585b1fc714d236a2190",
            "_model_module": "@jupyter-widgets/controls",
            "children": [
              "IPY_MODEL_99a6b3ce9e1b4f8abcd4ffb4e4ca62bd",
              "IPY_MODEL_9b81740a320c44b8a71a9b10ac497590"
            ]
          }
        },
        "54147838c8174585b1fc714d236a2190": {
          "model_module": "@jupyter-widgets/base",
          "model_name": "LayoutModel",
          "model_module_version": "1.2.0",
          "state": {
            "_view_name": "LayoutView",
            "grid_template_rows": null,
            "right": null,
            "justify_content": null,
            "_view_module": "@jupyter-widgets/base",
            "overflow": null,
            "_model_module_version": "1.2.0",
            "_view_count": null,
            "flex_flow": null,
            "width": null,
            "min_width": null,
            "border": null,
            "align_items": null,
            "bottom": null,
            "_model_module": "@jupyter-widgets/base",
            "top": null,
            "grid_column": null,
            "overflow_y": null,
            "overflow_x": null,
            "grid_auto_flow": null,
            "grid_area": null,
            "grid_template_columns": null,
            "flex": null,
            "_model_name": "LayoutModel",
            "justify_items": null,
            "grid_row": null,
            "max_height": null,
            "align_content": null,
            "visibility": null,
            "align_self": null,
            "height": null,
            "min_height": null,
            "padding": null,
            "grid_auto_rows": null,
            "grid_gap": null,
            "max_width": null,
            "order": null,
            "_view_module_version": "1.2.0",
            "grid_template_areas": null,
            "object_position": null,
            "object_fit": null,
            "grid_auto_columns": null,
            "margin": null,
            "display": null,
            "left": null
          }
        },
        "99a6b3ce9e1b4f8abcd4ffb4e4ca62bd": {
          "model_module": "@jupyter-widgets/controls",
          "model_name": "IntSliderModel",
          "model_module_version": "1.5.0",
          "state": {
            "_view_name": "IntSliderView",
            "style": "IPY_MODEL_40a32bf405a94d30b236cc54b38f15ce",
            "_dom_classes": [],
            "description": "aslider",
            "step": 1,
            "_model_name": "IntSliderModel",
            "orientation": "horizontal",
            "max": 20,
            "_view_module": "@jupyter-widgets/controls",
            "_model_module_version": "1.5.0",
            "value": 2,
            "_view_count": null,
            "disabled": false,
            "_view_module_version": "1.5.0",
            "min": 1,
            "continuous_update": true,
            "readout_format": "d",
            "description_tooltip": null,
            "readout": true,
            "_model_module": "@jupyter-widgets/controls",
            "layout": "IPY_MODEL_0225408a63664f01a804094ed1758b2a"
          }
        },
        "9b81740a320c44b8a71a9b10ac497590": {
          "model_module": "@jupyter-widgets/output",
          "model_name": "OutputModel",
          "model_module_version": "1.0.0",
          "state": {
            "_view_name": "OutputView",
            "msg_id": "",
            "_dom_classes": [],
            "_model_name": "OutputModel",
            "outputs": [
              {
                "output_type": "display_data",
                "data": {
                  "image/png": "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\n",
                  "text/plain": "<Figure size 432x288 with 1 Axes>"
                },
                "metadata": {
                  "needs_background": "light"
                }
              }
            ],
            "_view_module": "@jupyter-widgets/output",
            "_model_module_version": "1.0.0",
            "_view_count": null,
            "_view_module_version": "1.0.0",
            "layout": "IPY_MODEL_834af97030d64bc483a053f09ebf982b",
            "_model_module": "@jupyter-widgets/output"
          }
        },
        "40a32bf405a94d30b236cc54b38f15ce": {
          "model_module": "@jupyter-widgets/controls",
          "model_name": "SliderStyleModel",
          "model_module_version": "1.5.0",
          "state": {
            "_view_name": "StyleView",
            "handle_color": null,
            "_model_name": "SliderStyleModel",
            "description_width": "",
            "_view_module": "@jupyter-widgets/base",
            "_model_module_version": "1.5.0",
            "_view_count": null,
            "_view_module_version": "1.2.0",
            "_model_module": "@jupyter-widgets/controls"
          }
        },
        "0225408a63664f01a804094ed1758b2a": {
          "model_module": "@jupyter-widgets/base",
          "model_name": "LayoutModel",
          "model_module_version": "1.2.0",
          "state": {
            "_view_name": "LayoutView",
            "grid_template_rows": null,
            "right": null,
            "justify_content": null,
            "_view_module": "@jupyter-widgets/base",
            "overflow": null,
            "_model_module_version": "1.2.0",
            "_view_count": null,
            "flex_flow": null,
            "width": null,
            "min_width": null,
            "border": null,
            "align_items": null,
            "bottom": null,
            "_model_module": "@jupyter-widgets/base",
            "top": null,
            "grid_column": null,
            "overflow_y": null,
            "overflow_x": null,
            "grid_auto_flow": null,
            "grid_area": null,
            "grid_template_columns": null,
            "flex": null,
            "_model_name": "LayoutModel",
            "justify_items": null,
            "grid_row": null,
            "max_height": null,
            "align_content": null,
            "visibility": null,
            "align_self": null,
            "height": null,
            "min_height": null,
            "padding": null,
            "grid_auto_rows": null,
            "grid_gap": null,
            "max_width": null,
            "order": null,
            "_view_module_version": "1.2.0",
            "grid_template_areas": null,
            "object_position": null,
            "object_fit": null,
            "grid_auto_columns": null,
            "margin": null,
            "display": null,
            "left": null
          }
        },
        "834af97030d64bc483a053f09ebf982b": {
          "model_module": "@jupyter-widgets/base",
          "model_name": "LayoutModel",
          "model_module_version": "1.2.0",
          "state": {
            "_view_name": "LayoutView",
            "grid_template_rows": null,
            "right": null,
            "justify_content": null,
            "_view_module": "@jupyter-widgets/base",
            "overflow": null,
            "_model_module_version": "1.2.0",
            "_view_count": null,
            "flex_flow": null,
            "width": null,
            "min_width": null,
            "border": null,
            "align_items": null,
            "bottom": null,
            "_model_module": "@jupyter-widgets/base",
            "top": null,
            "grid_column": null,
            "overflow_y": null,
            "overflow_x": null,
            "grid_auto_flow": null,
            "grid_area": null,
            "grid_template_columns": null,
            "flex": null,
            "_model_name": "LayoutModel",
            "justify_items": null,
            "grid_row": null,
            "max_height": null,
            "align_content": null,
            "visibility": null,
            "align_self": null,
            "height": null,
            "min_height": null,
            "padding": null,
            "grid_auto_rows": null,
            "grid_gap": null,
            "max_width": null,
            "order": null,
            "_view_module_version": "1.2.0",
            "grid_template_areas": null,
            "object_position": null,
            "object_fit": null,
            "grid_auto_columns": null,
            "margin": null,
            "display": null,
            "left": null
          }
        }
      }
    }
  },
  "cells": [
    {
      "cell_type": "markdown",
      "metadata": {
        "id": "view-in-github",
        "colab_type": "text"
      },
      "source": [
        "<a href=\"https://colab.research.google.com/github/sysbio-unam/practicas-computacionales-Python/blob/main/michaelis-menten-y-hill.ipynb\" target=\"_parent\"><img src=\"https://colab.research.google.com/assets/colab-badge.svg\" alt=\"Open In Colab\"/></a>"
      ]
    },
    {
      "cell_type": "code",
      "execution_count": 20,
      "metadata": {
        "id": "kPrCQS1BZMqm"
      },
      "outputs": [],
      "source": [
        "import numpy as np \n",
        "import matplotlib.pyplot as plt\n",
        "from scipy.integrate import odeint"
      ]
    },
    {
      "cell_type": "code",
      "source": [
        "def velocidad_producto(S):\n",
        "    return vmax * S / (Km + S)"
      ],
      "metadata": {
        "id": "2y6g9KuZZdE0"
      },
      "execution_count": 21,
      "outputs": []
    },
    {
      "cell_type": "code",
      "source": [
        "# simular \n",
        "Km = 80\n",
        "vmax = 2\n",
        "# valores de sustrato \n",
        "S = np.linspace(0, 500, 100)"
      ],
      "metadata": {
        "id": "ZZro7lnqZbfN"
      },
      "execution_count": 69,
      "outputs": []
    },
    {
      "cell_type": "code",
      "source": [
        "plt.plot(S, velocidad_producto(S))\n",
        "plt.plot([Km, Km], [0, 1], \"b--\")\n",
        "plt.plot(S, np.ones_like(S) * vmax / 2, \"g--\")\n",
        "plt.plot(S, np.ones_like(S)*vmax, \"r--\")\n",
        "plt.xlabel(\"concentración de sustrato (M)\")\n",
        "plt.ylabel(\"velocidad de generación de producto (M/s)\")\n",
        "plt.legend([\"v(S)\", \"Ks\", \"vmax/2\", \"vmax\"])"
      ],
      "metadata": {
        "colab": {
          "base_uri": "https://localhost:8080/",
          "height": 296
        },
        "id": "P-cm49R9aDF0",
        "outputId": "d1c0b328-4c66-46b1-a936-71238c8c249d"
      },
      "execution_count": 70,
      "outputs": [
        {
          "output_type": "execute_result",
          "data": {
            "text/plain": [
              "<matplotlib.legend.Legend at 0x7f8385baf110>"
            ]
          },
          "metadata": {},
          "execution_count": 70
        },
        {
          "output_type": "display_data",
          "data": {
            "image/png": "[encoded data removed]",
            "text/plain": [
              "<Figure size 432x288 with 1 Axes>"
            ]
          },
          "metadata": {
            "needs_background": "light"
          }
        }
      ]
    },
    {
      "cell_type": "markdown",
      "source": [
        "## Simulación interactiva la constante de afinidad, $K_M$"
      ],
      "metadata": {
        "id": "wRkrBNolcugh"
      }
    },
    {
      "cell_type": "code",
      "source": [
        "def graficar_velocidad():\n",
        "    S = np.linspace(0, 500, 100)\n",
        "    plt.plot(S, velocidad_producto(S))\n",
        "    plt.plot([Km, Km], [0, 1], \"b--\")\n",
        "    plt.plot(S, np.ones_like(S) * vmax / 2, \"g--\")\n",
        "    plt.plot(S, np.ones_like(S)*vmax, \"r--\")\n",
        "    plt.xlabel(\"concentración de sustrato (M)\")\n",
        "    plt.ylabel(\"velocidad de generación de producto (M/s)\")\n",
        "    plt.legend([\"v(S)\", \"Ks\", \"vmax/2\", \"vmax\"])"
      ],
      "metadata": {
        "id": "DLS_4Rzmct16"
      },
      "execution_count": 74,
      "outputs": []
    },
    {
      "cell_type": "code",
      "source": [
        "graficar_velocidad()"
      ],
      "metadata": {
        "colab": {
          "base_uri": "https://localhost:8080/",
          "height": 279
        },
        "id": "QspoOyAtd41E",
        "outputId": "1f07c6fc-8028-428d-97dd-5826abb48873"
      },
      "execution_count": 75,
      "outputs": [
        {
          "output_type": "display_data",
          "data": {
            "image/png": "[encoded data removed]",
            "text/plain": [
              "<Figure size 432x288 with 1 Axes>"
            ]
          },
          "metadata": {
            "needs_background": "light"
          }
        }
      ]
    },
    {
      "cell_type": "code",
      "source": [
        "from ipywidgets import interact\n",
        "\n",
        "def sim(aslider = 80):\n",
        "    global Km\n",
        "    Km = aslider\n",
        "    graficar_velocidad()\n",
        "    \n",
        "interact(sim, aslider = (50, 200, 1))"
      ],
      "metadata": {
        "colab": {
          "base_uri": "https://localhost:8080/",
          "height": 328,
          "referenced_widgets": [
            "52d763687d7f4e79b5215b22fa1a7ddd",
            "ac519bf15309470c8024015ef635d5e0",
            "91808a8983c94ac9896a374677d5939f",
            "414d723b2a084b1e9503503bec455612",
            "650d315d952044c1976e9042f80e4e5b",
            "f7a5e467c2c740e69cd17a62aacae71d",
            "be695d0feeb940cc913a5e9d41c79085"
          ]
        },
        "id": "_rcVdaXJd6Wi",
        "outputId": "9947559f-6dc7-47bb-994c-33a51a6aff9c"
      },
      "execution_count": 90,
      "outputs": [
        {
          "output_type": "display_data",
          "data": {
            "application/vnd.jupyter.widget-view+json": {
              "model_id": "52d763687d7f4e79b5215b22fa1a7ddd",
              "version_minor": 0,
              "version_major": 2
            },
            "text/plain": [
              "interactive(children=(IntSlider(value=80, description='aslider', max=200, min=50), Output()), _dom_classes=('w…"
            ]
          },
          "metadata": {}
        },
        {
          "output_type": "execute_result",
          "data": {
            "text/plain": [
              "<function __main__.sim>"
            ]
          },
          "metadata": {},
          "execution_count": 90
        }
      ]
    },
    {
      "cell_type": "markdown",
      "source": [
        "## 5. Análisis dinámico (integración numérica)\n",
        "\n"
      ],
      "metadata": {
        "id": "IQKj2GL3fy_b"
      }
    },
    {
      "cell_type": "code",
      "source": [
        "# establecer modelo \n",
        "def modelo(s, t):\n",
        "    # variables de estado\n",
        "    S = s[0]\n",
        "    ES = s[1]\n",
        "    E = s[2]\n",
        "    P = s[3]\n",
        "\n",
        "    # balance para S\n",
        "    dSdt = -k1*E*S + kin*ES\n",
        "    # balance para el comlejo ES\n",
        "    dESdt = k1*E*S - kin*ES - k2*ES\n",
        "    # balance para E\n",
        "    dEdt = - dESdt\n",
        "    # balance para P \n",
        "    dPdt = k2*ES\n",
        "    return [dSdt, dESdt, dEdt, dPdt]"
      ],
      "metadata": {
        "id": "ZrYy2KhvecvE"
      },
      "execution_count": 77,
      "outputs": []
    },
    {
      "cell_type": "code",
      "source": [
        "# establecer parámetros \n",
        "k1, kin, k2 = 0.05, 0.04, 0.5\n",
        "# condiciones iniciales \n",
        "s =[10, 0, 1, 0]\n",
        "# tiempo de integración\n",
        "time = np.linspace(0, 150, 151)"
      ],
      "metadata": {
        "id": "8y3DnSoOgOgY"
      },
      "execution_count": 78,
      "outputs": []
    },
    {
      "cell_type": "code",
      "source": [
        "out = odeint(modelo, s, time)\n",
        "S = out[:, 0]\n",
        "ES = out[:, 1]\n",
        "E = out[:, 2]\n",
        "P = out[:, 3]"
      ],
      "metadata": {
        "id": "gufgfPLzggUh"
      },
      "execution_count": 79,
      "outputs": []
    },
    {
      "cell_type": "code",
      "source": [
        "plt.figure(figsize = (10, 10))\n",
        "plt.subplot(2,2,1)\n",
        "plt.plot(time, S, time, P)\n",
        "plt.xlabel(\"tiempo (s)\")\n",
        "plt.ylabel(\"concentración (M)\")\n",
        "plt.legend([\"S\", \"P\"])\n",
        "plt.subplot(2,2,2)\n",
        "plt.plot(time, E, time, ES)\n",
        "plt.xlabel(\"tiempo (s)\")\n",
        "plt.ylabel(\"concentración (M)\")\n",
        "plt.legend([\"E\", \"ES\"])"
      ],
      "metadata": {
        "colab": {
          "base_uri": "https://localhost:8080/",
          "height": 326
        },
        "id": "qNGDRs8RgoVJ",
        "outputId": "bf8019e0-37bc-44d4-c82e-5a04affd903e"
      },
      "execution_count": 80,
      "outputs": [
        {
          "output_type": "execute_result",
          "data": {
            "text/plain": [
              "<matplotlib.legend.Legend at 0x7f8385f89c90>"
            ]
          },
          "metadata": {},
          "execution_count": 80
        },
        {
          "output_type": "display_data",
          "data": {
            "image/png": "[encoded data removed]",
            "text/plain": [
              "<Figure size 720x720 with 2 Axes>"
            ]
          },
          "metadata": {
            "needs_background": "light"
          }
        }
      ]
    },
    {
      "cell_type": "markdown",
      "source": [
        "# Ecuación de Hill "
      ],
      "metadata": {
        "id": "rak0lhiVjQpL"
      }
    },
    {
      "cell_type": "code",
      "source": [
        "def hill(L):\n",
        "    # fracción de proteína unida al ligando  \n",
        "    theta = L ** n/ (Kd + L ** n)\n",
        "    return theta"
      ],
      "metadata": {
        "id": "Gz5sLAjkjIQi"
      },
      "execution_count": 85,
      "outputs": []
    },
    {
      "cell_type": "code",
      "source": [
        "# parámetros\n",
        "Kd, n = 5, 1\n",
        "# valores de L a evaluar \n",
        "L = np.linspace(0, 10, 101)"
      ],
      "metadata": {
        "id": "7vt_R6PmjdrM"
      },
      "execution_count": 97,
      "outputs": []
    },
    {
      "cell_type": "code",
      "source": [
        "plt.plot(L, hill(L))\n",
        "plt.xlabel(\"concentración de ligando\")\n",
        "plt.ylabel(\"velocidad de la reacción\")"
      ],
      "metadata": {
        "colab": {
          "base_uri": "https://localhost:8080/",
          "height": 301
        },
        "id": "9C0BIOK7jnzS",
        "outputId": "35f18a30-3e57-41da-bdbd-ecd167093f47"
      },
      "execution_count": 98,
      "outputs": [
        {
          "output_type": "execute_result",
          "data": {
            "text/plain": [
              "Text(0, 0.5, 'velocidad de la reacción')"
            ]
          },
          "metadata": {},
          "execution_count": 98
        },
        {
          "output_type": "display_data",
          "data": {
            "image/png": "[encoded data removed]",
            "text/plain": [
              "<Figure size 432x288 with 1 Axes>"
            ]
          },
          "metadata": {
            "needs_background": "light"
          }
        }
      ]
    },
    {
      "cell_type": "markdown",
      "source": [
        "## Simulación interactiva para estudiar el coeficiente de Hill, $n$"
      ],
      "metadata": {
        "id": "nzbX1pM0j_1i"
      }
    },
    {
      "cell_type": "code",
      "source": [
        "def graficar_hill():\n",
        "    L = np.linspace(0, 10, 101)\n",
        "    plt.plot(L, hill(L))\n",
        "    plt.xlabel(\"concentración de ligando\")\n",
        "    plt.ylabel(\"velocidad de la reacción\")"
      ],
      "metadata": {
        "id": "rNbCt8vOj_Pa"
      },
      "execution_count": 99,
      "outputs": []
    },
    {
      "cell_type": "code",
      "source": [
        "graficar_hill()"
      ],
      "metadata": {
        "colab": {
          "base_uri": "https://localhost:8080/",
          "height": 284
        },
        "id": "f0r5MjARjrer",
        "outputId": "22aa152e-4aa4-4dd8-c53d-384aced223bc"
      },
      "execution_count": 100,
      "outputs": [
        {
          "output_type": "display_data",
          "data": {
            "image/png": "[encoded data removed]",
            "text/plain": [
              "<Figure size 432x288 with 1 Axes>"
            ]
          },
          "metadata": {
            "needs_background": "light"
          }
        }
      ]
    },
    {
      "cell_type": "code",
      "source": [
        "from ipywidgets import interact\n",
        "\n",
        "def sim_hill(aslider = 1):\n",
        "    global n\n",
        "    n = aslider\n",
        "    graficar_hill()\n",
        "    \n",
        "interact(sim_hill, aslider = (1, 20, 1))"
      ],
      "metadata": {
        "colab": {
          "base_uri": "https://localhost:8080/",
          "height": 333,
          "referenced_widgets": [
            "74bf5cd97b10458e8db8c401bcbb0cb8",
            "54147838c8174585b1fc714d236a2190",
            "99a6b3ce9e1b4f8abcd4ffb4e4ca62bd",
            "9b81740a320c44b8a71a9b10ac497590",
            "40a32bf405a94d30b236cc54b38f15ce",
            "0225408a63664f01a804094ed1758b2a",
            "834af97030d64bc483a053f09ebf982b"
          ]
        },
        "id": "-e1ninswkoHo",
        "outputId": "863603e5-c7c2-4427-a35c-88de5b6f02d8"
      },
      "execution_count": 101,
      "outputs": [
        {
          "output_type": "display_data",
          "data": {
            "application/vnd.jupyter.widget-view+json": {
              "model_id": "74bf5cd97b10458e8db8c401bcbb0cb8",
              "version_minor": 0,
              "version_major": 2
            },
            "text/plain": [
              "interactive(children=(IntSlider(value=1, description='aslider', max=20, min=1), Output()), _dom_classes=('widg…"
            ]
          },
          "metadata": {}
        },
        {
          "output_type": "execute_result",
          "data": {
            "text/plain": [
              "<function __main__.sim_hill>"
            ]
          },
          "metadata": {},
          "execution_count": 101
        }
      ]
    },
    {
      "cell_type": "code",
      "source": [
        ""
      ],
      "metadata": {
        "id": "7ln2pYLslAcs"
      },
      "execution_count": null,
      "outputs": []
    }
  ]
}